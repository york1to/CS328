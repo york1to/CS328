{
 "cells": [
  {
   "cell_type": "code",
   "execution_count": 1,
   "id": "37ba8cbf",
   "metadata": {},
   "outputs": [],
   "source": [
    "# Generate two random matrices and write them to files\n",
    "import numpy as np\n",
    "\n",
    "def generate_matrix(rows, cols):\n",
    "    return np.random.rand(rows, cols)\n",
    "\n",
    "def write_matrix_to_file(matrix, filename):\n",
    "    np.savetxt(filename, matrix, delimiter=' ')\n",
    "\n",
    "rows, cols = 480, 480\n",
    "matrix1 = generate_matrix(rows, cols)\n",
    "matrix2 = generate_matrix(rows, cols)\n",
    "\n",
    "write_matrix_to_file(matrix1, 'matrixA.txt')\n",
    "write_matrix_to_file(matrix2, 'matrixB.txt')\n"
   ]
  },
  {
   "cell_type": "code",
   "execution_count": 7,
   "id": "98fa5301",
   "metadata": {},
   "outputs": [
    {
     "name": "stdout",
     "output_type": "stream",
     "text": [
      "BRUTE DEBUG 1 processes: ELAPSED_TIME: 0.298633\n",
      "BRUTE DEBUG 2 processes: ELAPSED_TIME: 0.264902\n",
      "BRUTE DEBUG 4 processes: ELAPSED_TIME: 0.091425\n",
      "BRUTE DEBUG 9 processes: ELAPSED_TIME: 0.065766\n",
      "BRUTE DEBUG 16 processes: ELAPSED_TIME: 0.042387\n",
      "BRUTE DEBUG 36 processes: ELAPSED_TIME: 0.100423\n",
      "FOX DEBUG 4 processes: ELAPSED_TIME: 0.088408\n",
      "FOX DEBUG 9 processes: ELAPSED_TIME: 0.066574\n",
      "FOX DEBUG 16 processes: ELAPSED_TIME: 0.041820\n"
     ]
    },
    {
     "name": "stderr",
     "output_type": "stream",
     "text": [
      "No artists with labels found to put in legend.  Note that artists whose label start with an underscore are ignored when legend() is called with no argument.\n"
     ]
    },
    {
     "name": "stdout",
     "output_type": "stream",
     "text": [
      "FOX DEBUG 36 processes: ELAPSED_TIME: 0.067449\n"
     ]
    },
    {
     "data": {
      "image/png": "[encoded data removed]",
      "text/plain": [
       "<Figure size 432x288 with 1 Axes>"
      ]
     },
     "metadata": {
      "needs_background": "light"
     },
     "output_type": "display_data"
    }
   ],
   "source": [
    "\n",
    "# Calculate the product of the two matrices\n",
    "\n",
    "import subprocess\n",
    "import matplotlib.pyplot as plt\n",
    "\n",
    "def run_mpi_brute(num_processes):\n",
    "    cmd = f\"mpirun -np {num_processes} --oversubscribe ./mpi_matrix_solved\"\n",
    "    result = subprocess.run(cmd, shell=True, capture_output=True, text=True)\n",
    "    output = result.stdout\n",
    "\n",
    "    for line in output.split('\\n'):\n",
    "        if \"ELAPSED_TIME:\" in line:\n",
    "            print(f\"BRUTE DEBUG {num_processes} processes: {line}\")\n",
    "            parts = line.split()\n",
    "            if len(parts) > 1:\n",
    "                try:\n",
    "                    time_taken = float(parts[1])\n",
    "                    return time_taken\n",
    "                except ValueError:\n",
    "                    print(f\"Error: Could not convert '{parts[1]}' to float.\")\n",
    "                    return None\n",
    "            else:\n",
    "                print(\"Error: Unexpected format for ELAPSED_TIME line.\")\n",
    "                return None\n",
    "    return None\n",
    "\n",
    "def run_mpi_fox(num_processes):\n",
    "    cmd = f\"mpirun -np {num_processes} --oversubscribe ./mpi_matrix_fox\"\n",
    "    result = subprocess.run(cmd, shell=True, capture_output=True, text=True)\n",
    "    output = result.stdout\n",
    "\n",
    "    for line in output.split('\\n'):\n",
    "        if \"ELAPSED_TIME:\" in line:\n",
    "            print(f\"FOX DEBUG {num_processes} processes: {line}\")\n",
    "            parts = line.split()\n",
    "            if len(parts) > 1:\n",
    "                try:\n",
    "                    time_taken = float(parts[1])\n",
    "                    return time_taken\n",
    "                except ValueError:\n",
    "                    print(f\"Error: Could not convert '{parts[1]}' to float.\")\n",
    "                    return None\n",
    "            else:\n",
    "                print(\"Error: Unexpected format for ELAPSED_TIME line.\")\n",
    "                return None\n",
    "    return None\n",
    "\n",
    "cmd = f\"make\"\n",
    "subprocess.run(cmd, shell=True, capture_output=True, text=True)\n",
    "process_counts = [1, 2, 4, 9, 16, 36]  # Adjust as needed\n",
    "times_brute = [run_mpi_brute(p) for p in process_counts]\n",
    "times_fox = [run_mpi_fox(p) for p in process_counts]\n",
    "\n",
    "plt.plot(process_counts, times_brute, marker='o', color='b', label='brute')\n",
    "plt.plot(process_counts, times_fox, marker='o', color='r', label='fox')\n",
    "plt.title(\"MPI Computation Brute Force, Fox\")\n",
    "plt.xlabel(\"Number of Processes\")\n",
    "plt.ylabel(\"Computation Time (seconds)\")\n",
    "plt.grid(True)\n",
    "plt.legend()\n",
    "plt.show()"
   ]
  },
  {
   "cell_type": "code",
   "execution_count": null,
   "id": "0e9bb932",
   "metadata": {},
   "outputs": [],
   "source": []
  }
 ],
 "metadata": {
  "kernelspec": {
   "display_name": "Python 3 (ipykernel)",
   "language": "python",
   "name": "python3"
  },
  "language_info": {
   "codemirror_mode": {
    "name": "ipython",
    "version": 3
   },
   "file_extension": ".py",
   "mimetype": "text/x-python",
   "name": "python",
   "nbconvert_exporter": "python",
   "pygments_lexer": "ipython3",
   "version": "3.10.12"
  }
 },
 "nbformat": 4,
 "nbformat_minor": 5
}
